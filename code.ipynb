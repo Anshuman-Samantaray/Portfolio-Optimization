{
 "cells": [
  {
   "cell_type": "markdown",
   "metadata": {},
   "source": [
    "# <b>Importing Necessary Libraries"
   ]
  },
  {
   "cell_type": "code",
   "execution_count": 1,
   "metadata": {},
   "outputs": [],
   "source": [
    "import pandas  as pd\n",
    "import numpy as np\n",
    "import zipfile\n",
    "import os\n",
    "import seaborn as sns\n",
    "import matplotlib.pyplot as plt"
   ]
  },
  {
   "cell_type": "code",
   "execution_count": 2,
   "metadata": {},
   "outputs": [],
   "source": [
    "#### Type in the cpaital here ####\n",
    "capital = 50000"
   ]
  },
  {
   "cell_type": "markdown",
   "metadata": {},
   "source": [
    "# <b> Creating Dataset"
   ]
  },
  {
   "cell_type": "code",
   "execution_count": 3,
   "metadata": {},
   "outputs": [
    {
     "name": "stdout",
     "output_type": "stream",
     "text": [
      "Concatenation complete. Saved as 'merged.csv'.\n"
     ]
    }
   ],
   "source": [
    "stocks = ['COL', 'CSL', 'FMG', 'FPH', 'JBH', 'RMD', 'SAR', 'TPM']\n",
    "\n",
    "def starts_with_prefix(filename, stocks):\n",
    "    return any(filename.upper().startswith(stocks) for stocks in stocks)\n",
    "\n",
    "dfs = []\n",
    "zip_path = 'archive.zip'\n",
    "with zipfile.ZipFile(zip_path, 'r') as archive:\n",
    "    for file_name in archive.namelist():\n",
    "        if file_name.endswith('.csv') and starts_with_prefix(file_name, stocks):\n",
    "            stock_symbol = os.path.splitext(os.path.basename(file_name))[0]\n",
    "            with archive.open(file_name) as file:\n",
    "                df = pd.read_csv(file)\n",
    "                df['Stock'] = stock_symbol\n",
    "                dfs.append(df)\n",
    "\n",
    "if dfs:\n",
    "    concatenated_df = pd.concat(dfs, ignore_index=True)\n",
    "    concatenated_df.to_csv('merged.csv', index=False)\n",
    "    print(\"Concatenation complete. Saved as 'merged.csv'.\")\n",
    "else:\n",
    "    print(\"No matching CSV files found.\")\n"
   ]
  },
  {
   "cell_type": "code",
   "execution_count": 4,
   "metadata": {},
   "outputs": [
    {
     "data": {
      "text/html": [
       "<div>\n",
       "<style scoped>\n",
       "    .dataframe tbody tr th:only-of-type {\n",
       "        vertical-align: middle;\n",
       "    }\n",
       "\n",
       "    .dataframe tbody tr th {\n",
       "        vertical-align: top;\n",
       "    }\n",
       "\n",
       "    .dataframe thead th {\n",
       "        text-align: right;\n",
       "    }\n",
       "</style>\n",
       "<table border=\"1\" class=\"dataframe\">\n",
       "  <thead>\n",
       "    <tr style=\"text-align: right;\">\n",
       "      <th></th>\n",
       "      <th>Date</th>\n",
       "      <th>Open</th>\n",
       "      <th>High</th>\n",
       "      <th>Low</th>\n",
       "      <th>Close</th>\n",
       "      <th>Adj Close</th>\n",
       "      <th>Volume</th>\n",
       "      <th>Stock</th>\n",
       "    </tr>\n",
       "  </thead>\n",
       "  <tbody>\n",
       "    <tr>\n",
       "      <th>0</th>\n",
       "      <td>2018-11-21</td>\n",
       "      <td>12.49</td>\n",
       "      <td>13.37</td>\n",
       "      <td>12.300</td>\n",
       "      <td>12.75</td>\n",
       "      <td>12.392522</td>\n",
       "      <td>8752527.0</td>\n",
       "      <td>COL</td>\n",
       "    </tr>\n",
       "    <tr>\n",
       "      <th>1</th>\n",
       "      <td>2018-11-22</td>\n",
       "      <td>12.85</td>\n",
       "      <td>12.91</td>\n",
       "      <td>12.210</td>\n",
       "      <td>12.75</td>\n",
       "      <td>12.392522</td>\n",
       "      <td>5673815.0</td>\n",
       "      <td>COL</td>\n",
       "    </tr>\n",
       "    <tr>\n",
       "      <th>2</th>\n",
       "      <td>2018-11-23</td>\n",
       "      <td>12.75</td>\n",
       "      <td>12.85</td>\n",
       "      <td>12.620</td>\n",
       "      <td>12.84</td>\n",
       "      <td>12.479999</td>\n",
       "      <td>5474121.0</td>\n",
       "      <td>COL</td>\n",
       "    </tr>\n",
       "    <tr>\n",
       "      <th>3</th>\n",
       "      <td>2018-11-26</td>\n",
       "      <td>12.84</td>\n",
       "      <td>13.30</td>\n",
       "      <td>12.720</td>\n",
       "      <td>13.11</td>\n",
       "      <td>12.742429</td>\n",
       "      <td>5085525.0</td>\n",
       "      <td>COL</td>\n",
       "    </tr>\n",
       "    <tr>\n",
       "      <th>4</th>\n",
       "      <td>2018-11-27</td>\n",
       "      <td>13.05</td>\n",
       "      <td>13.13</td>\n",
       "      <td>12.750</td>\n",
       "      <td>12.89</td>\n",
       "      <td>12.528598</td>\n",
       "      <td>6747945.0</td>\n",
       "      <td>COL</td>\n",
       "    </tr>\n",
       "    <tr>\n",
       "      <th>...</th>\n",
       "      <td>...</td>\n",
       "      <td>...</td>\n",
       "      <td>...</td>\n",
       "      <td>...</td>\n",
       "      <td>...</td>\n",
       "      <td>...</td>\n",
       "      <td>...</td>\n",
       "      <td>...</td>\n",
       "    </tr>\n",
       "    <tr>\n",
       "      <th>34619</th>\n",
       "      <td>2020-03-26</td>\n",
       "      <td>6.82</td>\n",
       "      <td>7.15</td>\n",
       "      <td>6.770</td>\n",
       "      <td>6.94</td>\n",
       "      <td>6.911479</td>\n",
       "      <td>1490585.0</td>\n",
       "      <td>TPM</td>\n",
       "    </tr>\n",
       "    <tr>\n",
       "      <th>34620</th>\n",
       "      <td>2020-03-27</td>\n",
       "      <td>6.96</td>\n",
       "      <td>7.07</td>\n",
       "      <td>6.635</td>\n",
       "      <td>6.72</td>\n",
       "      <td>6.692384</td>\n",
       "      <td>2939934.0</td>\n",
       "      <td>TPM</td>\n",
       "    </tr>\n",
       "    <tr>\n",
       "      <th>34621</th>\n",
       "      <td>2020-03-30</td>\n",
       "      <td>6.57</td>\n",
       "      <td>7.10</td>\n",
       "      <td>6.570</td>\n",
       "      <td>7.10</td>\n",
       "      <td>7.070822</td>\n",
       "      <td>1115726.0</td>\n",
       "      <td>TPM</td>\n",
       "    </tr>\n",
       "    <tr>\n",
       "      <th>34622</th>\n",
       "      <td>2020-03-31</td>\n",
       "      <td>7.00</td>\n",
       "      <td>7.22</td>\n",
       "      <td>6.750</td>\n",
       "      <td>6.89</td>\n",
       "      <td>6.861685</td>\n",
       "      <td>1659093.0</td>\n",
       "      <td>TPM</td>\n",
       "    </tr>\n",
       "    <tr>\n",
       "      <th>34623</th>\n",
       "      <td>2020-04-01</td>\n",
       "      <td>6.94</td>\n",
       "      <td>7.34</td>\n",
       "      <td>6.930</td>\n",
       "      <td>7.34</td>\n",
       "      <td>7.309836</td>\n",
       "      <td>1319563.0</td>\n",
       "      <td>TPM</td>\n",
       "    </tr>\n",
       "  </tbody>\n",
       "</table>\n",
       "<p>34624 rows × 8 columns</p>\n",
       "</div>"
      ],
      "text/plain": [
       "             Date   Open   High     Low  Close  Adj Close     Volume Stock\n",
       "0      2018-11-21  12.49  13.37  12.300  12.75  12.392522  8752527.0   COL\n",
       "1      2018-11-22  12.85  12.91  12.210  12.75  12.392522  5673815.0   COL\n",
       "2      2018-11-23  12.75  12.85  12.620  12.84  12.479999  5474121.0   COL\n",
       "3      2018-11-26  12.84  13.30  12.720  13.11  12.742429  5085525.0   COL\n",
       "4      2018-11-27  13.05  13.13  12.750  12.89  12.528598  6747945.0   COL\n",
       "...           ...    ...    ...     ...    ...        ...        ...   ...\n",
       "34619  2020-03-26   6.82   7.15   6.770   6.94   6.911479  1490585.0   TPM\n",
       "34620  2020-03-27   6.96   7.07   6.635   6.72   6.692384  2939934.0   TPM\n",
       "34621  2020-03-30   6.57   7.10   6.570   7.10   7.070822  1115726.0   TPM\n",
       "34622  2020-03-31   7.00   7.22   6.750   6.89   6.861685  1659093.0   TPM\n",
       "34623  2020-04-01   6.94   7.34   6.930   7.34   7.309836  1319563.0   TPM\n",
       "\n",
       "[34624 rows x 8 columns]"
      ]
     },
     "execution_count": 4,
     "metadata": {},
     "output_type": "execute_result"
    }
   ],
   "source": [
    "concatenated_df"
   ]
  },
  {
   "cell_type": "markdown",
   "metadata": {},
   "source": [
    "# <b>Handling Missing Values"
   ]
  },
  {
   "cell_type": "code",
   "execution_count": 5,
   "metadata": {},
   "outputs": [],
   "source": [
    "numeric_df= concatenated_df.select_dtypes(include=[np.number])"
   ]
  },
  {
   "cell_type": "code",
   "execution_count": 6,
   "metadata": {},
   "outputs": [
    {
     "data": {
      "text/plain": [
       "<Axes: >"
      ]
     },
     "execution_count": 6,
     "metadata": {},
     "output_type": "execute_result"
    },
    {
     "data": {
      "image/png": "[encoded data removed]",
      "text/plain": [
       "<Figure size 640x480 with 1 Axes>"
      ]
     },
     "metadata": {},
     "output_type": "display_data"
    }
   ],
   "source": [
    "sns.heatmap(numeric_df.isnull(), cbar=False, cmap='viridis', yticklabels=False)"
   ]
  },
  {
   "cell_type": "code",
   "execution_count": 7,
   "metadata": {},
   "outputs": [],
   "source": [
    "def impute_with_window(ds, column, window_size=5, method='mean'):\n",
    "    def impute_value(s):\n",
    "        for i in range(len(s)):\n",
    "            if pd.isnull(s[i]):\n",
    "                window_start = max(0, i - window_size)\n",
    "                window_end = min(len(s), i + window_size + 1)\n",
    "                window_values = s[window_start:window_end]\n",
    "                if method == 'mean':\n",
    "                    s[i] = window_values.mean()\n",
    "                elif method == 'median':\n",
    "                    s[i] = window_values.median()\n",
    "        return s\n",
    "    \n",
    "    ds[column] = impute_value(ds[column].copy())\n",
    "    return ds\n",
    "\n",
    "ds = pd.read_csv('merged.csv')\n",
    "\n",
    "\n",
    "\n",
    "columns_to_impute = ['Open', 'High', 'Low', 'Close', 'Adj Close', 'Volume']\n",
    "\n",
    "for column in columns_to_impute:\n",
    "    ds = impute_with_window(ds, column, window_size=5, method='mean') \n",
    "\n",
    "ds['Volume'] = ds['Volume'].round().astype(int)\n",
    "ds.to_csv('imputed.csv')"
   ]
  },
  {
   "cell_type": "code",
   "execution_count": 8,
   "metadata": {},
   "outputs": [
    {
     "data": {
      "text/plain": [
       "<Axes: >"
      ]
     },
     "execution_count": 8,
     "metadata": {},
     "output_type": "execute_result"
    },
    {
     "data": {
      "image/png": "[encoded data removed]",
      "text/plain": [
       "<Figure size 640x480 with 1 Axes>"
      ]
     },
     "metadata": {},
     "output_type": "display_data"
    }
   ],
   "source": [
    "num_new = ds.select_dtypes(include=[np.number])\n",
    "sns.heatmap(num_new.isnull(), cbar=False, cmap='viridis', yticklabels=False)"
   ]
  },
  {
   "cell_type": "markdown",
   "metadata": {},
   "source": [
    "# <b>Pivoting Dataframe "
   ]
  },
  {
   "cell_type": "code",
   "execution_count": 9,
   "metadata": {},
   "outputs": [],
   "source": [
    "ds['Date'] = pd.to_datetime(ds['Date'])\n",
    "adj_values = ds.pivot(index='Date', columns='Stock', values='Adj Close')\n",
    "adj_values = adj_values.sort_index()"
   ]
  },
  {
   "cell_type": "code",
   "execution_count": 10,
   "metadata": {},
   "outputs": [
    {
     "data": {
      "image/png": "[encoded data removed]",
      "text/plain": [
       "<Figure size 2000x1600 with 2 Axes>"
      ]
     },
     "metadata": {},
     "output_type": "display_data"
    }
   ],
   "source": [
    "plt.figure(figsize=(20,16))\n",
    "sns.heatmap(adj_values.corr(), annot=False, cmap='viridis')\n",
    "plt.title('Correlation Matrix')\n",
    "plt.show()"
   ]
  },
  {
   "cell_type": "markdown",
   "metadata": {},
   "source": [
    "# <b>Calculating Log Normal Returns"
   ]
  },
  {
   "cell_type": "code",
   "execution_count": 11,
   "metadata": {},
   "outputs": [
    {
     "data": {
      "text/html": [
       "<div>\n",
       "<style scoped>\n",
       "    .dataframe tbody tr th:only-of-type {\n",
       "        vertical-align: middle;\n",
       "    }\n",
       "\n",
       "    .dataframe tbody tr th {\n",
       "        vertical-align: top;\n",
       "    }\n",
       "\n",
       "    .dataframe thead th {\n",
       "        text-align: right;\n",
       "    }\n",
       "</style>\n",
       "<table border=\"1\" class=\"dataframe\">\n",
       "  <thead>\n",
       "    <tr style=\"text-align: right;\">\n",
       "      <th>Stock</th>\n",
       "      <th>COL</th>\n",
       "      <th>CSL</th>\n",
       "      <th>FMG</th>\n",
       "      <th>FPH</th>\n",
       "      <th>JBH</th>\n",
       "      <th>RMD</th>\n",
       "      <th>SAR</th>\n",
       "      <th>TPM</th>\n",
       "    </tr>\n",
       "    <tr>\n",
       "      <th>Date</th>\n",
       "      <th></th>\n",
       "      <th></th>\n",
       "      <th></th>\n",
       "      <th></th>\n",
       "      <th></th>\n",
       "      <th></th>\n",
       "      <th></th>\n",
       "      <th></th>\n",
       "    </tr>\n",
       "  </thead>\n",
       "  <tbody>\n",
       "    <tr>\n",
       "      <th>2018-11-22</th>\n",
       "      <td>0.000000</td>\n",
       "      <td>0.033228</td>\n",
       "      <td>0.010050</td>\n",
       "      <td>0.011551</td>\n",
       "      <td>0.032819</td>\n",
       "      <td>0.002849</td>\n",
       "      <td>-0.015209</td>\n",
       "      <td>0.001332</td>\n",
       "    </tr>\n",
       "    <tr>\n",
       "      <th>2018-11-23</th>\n",
       "      <td>0.007034</td>\n",
       "      <td>-0.013565</td>\n",
       "      <td>0.002497</td>\n",
       "      <td>0.007356</td>\n",
       "      <td>0.006436</td>\n",
       "      <td>0.008499</td>\n",
       "      <td>-0.011560</td>\n",
       "      <td>0.005312</td>\n",
       "    </tr>\n",
       "    <tr>\n",
       "      <th>2018-11-26</th>\n",
       "      <td>0.020810</td>\n",
       "      <td>-0.014475</td>\n",
       "      <td>-0.040718</td>\n",
       "      <td>0.017757</td>\n",
       "      <td>0.008942</td>\n",
       "      <td>0.009126</td>\n",
       "      <td>0.011560</td>\n",
       "      <td>0.001323</td>\n",
       "    </tr>\n",
       "    <tr>\n",
       "      <th>2018-11-27</th>\n",
       "      <td>-0.016923</td>\n",
       "      <td>-0.001113</td>\n",
       "      <td>0.000000</td>\n",
       "      <td>0.004789</td>\n",
       "      <td>-0.002122</td>\n",
       "      <td>0.006964</td>\n",
       "      <td>-0.019344</td>\n",
       "      <td>0.014446</td>\n",
       "    </tr>\n",
       "    <tr>\n",
       "      <th>2018-11-28</th>\n",
       "      <td>-0.014850</td>\n",
       "      <td>0.001559</td>\n",
       "      <td>0.023107</td>\n",
       "      <td>-0.024991</td>\n",
       "      <td>-0.016706</td>\n",
       "      <td>0.009669</td>\n",
       "      <td>-0.072907</td>\n",
       "      <td>-0.002611</td>\n",
       "    </tr>\n",
       "    <tr>\n",
       "      <th>...</th>\n",
       "      <td>...</td>\n",
       "      <td>...</td>\n",
       "      <td>...</td>\n",
       "      <td>...</td>\n",
       "      <td>...</td>\n",
       "      <td>...</td>\n",
       "      <td>...</td>\n",
       "      <td>...</td>\n",
       "    </tr>\n",
       "    <tr>\n",
       "      <th>2020-03-26</th>\n",
       "      <td>-0.006024</td>\n",
       "      <td>0.060153</td>\n",
       "      <td>0.028932</td>\n",
       "      <td>0.005831</td>\n",
       "      <td>0.094923</td>\n",
       "      <td>0.023948</td>\n",
       "      <td>-0.030600</td>\n",
       "      <td>-0.002878</td>\n",
       "    </tr>\n",
       "    <tr>\n",
       "      <th>2020-03-27</th>\n",
       "      <td>-0.050816</td>\n",
       "      <td>-0.078752</td>\n",
       "      <td>-0.091515</td>\n",
       "      <td>-0.009126</td>\n",
       "      <td>-0.061859</td>\n",
       "      <td>-0.011016</td>\n",
       "      <td>-0.017094</td>\n",
       "      <td>-0.032213</td>\n",
       "    </tr>\n",
       "    <tr>\n",
       "      <th>2020-03-30</th>\n",
       "      <td>0.066999</td>\n",
       "      <td>0.113539</td>\n",
       "      <td>0.050772</td>\n",
       "      <td>0.103048</td>\n",
       "      <td>0.100201</td>\n",
       "      <td>0.066420</td>\n",
       "      <td>0.082692</td>\n",
       "      <td>0.055007</td>\n",
       "    </tr>\n",
       "    <tr>\n",
       "      <th>2020-03-31</th>\n",
       "      <td>-0.103908</td>\n",
       "      <td>-0.052526</td>\n",
       "      <td>-0.009950</td>\n",
       "      <td>-0.047071</td>\n",
       "      <td>0.041939</td>\n",
       "      <td>0.023357</td>\n",
       "      <td>-0.029532</td>\n",
       "      <td>-0.030024</td>\n",
       "    </tr>\n",
       "    <tr>\n",
       "      <th>2020-04-01</th>\n",
       "      <td>0.043246</td>\n",
       "      <td>0.034194</td>\n",
       "      <td>0.034401</td>\n",
       "      <td>0.032074</td>\n",
       "      <td>0.101460</td>\n",
       "      <td>-0.043458</td>\n",
       "      <td>0.024227</td>\n",
       "      <td>0.063268</td>\n",
       "    </tr>\n",
       "  </tbody>\n",
       "</table>\n",
       "<p>343 rows × 8 columns</p>\n",
       "</div>"
      ],
      "text/plain": [
       "Stock            COL       CSL       FMG       FPH       JBH       RMD  \\\n",
       "Date                                                                     \n",
       "2018-11-22  0.000000  0.033228  0.010050  0.011551  0.032819  0.002849   \n",
       "2018-11-23  0.007034 -0.013565  0.002497  0.007356  0.006436  0.008499   \n",
       "2018-11-26  0.020810 -0.014475 -0.040718  0.017757  0.008942  0.009126   \n",
       "2018-11-27 -0.016923 -0.001113  0.000000  0.004789 -0.002122  0.006964   \n",
       "2018-11-28 -0.014850  0.001559  0.023107 -0.024991 -0.016706  0.009669   \n",
       "...              ...       ...       ...       ...       ...       ...   \n",
       "2020-03-26 -0.006024  0.060153  0.028932  0.005831  0.094923  0.023948   \n",
       "2020-03-27 -0.050816 -0.078752 -0.091515 -0.009126 -0.061859 -0.011016   \n",
       "2020-03-30  0.066999  0.113539  0.050772  0.103048  0.100201  0.066420   \n",
       "2020-03-31 -0.103908 -0.052526 -0.009950 -0.047071  0.041939  0.023357   \n",
       "2020-04-01  0.043246  0.034194  0.034401  0.032074  0.101460 -0.043458   \n",
       "\n",
       "Stock            SAR       TPM  \n",
       "Date                            \n",
       "2018-11-22 -0.015209  0.001332  \n",
       "2018-11-23 -0.011560  0.005312  \n",
       "2018-11-26  0.011560  0.001323  \n",
       "2018-11-27 -0.019344  0.014446  \n",
       "2018-11-28 -0.072907 -0.002611  \n",
       "...              ...       ...  \n",
       "2020-03-26 -0.030600 -0.002878  \n",
       "2020-03-27 -0.017094 -0.032213  \n",
       "2020-03-30  0.082692  0.055007  \n",
       "2020-03-31 -0.029532 -0.030024  \n",
       "2020-04-01  0.024227  0.063268  \n",
       "\n",
       "[343 rows x 8 columns]"
      ]
     },
     "execution_count": 11,
     "metadata": {},
     "output_type": "execute_result"
    }
   ],
   "source": [
    "log_returns = np.log(adj_values / adj_values.shift(1)).dropna()\n",
    "log_returns"
   ]
  },
  {
   "cell_type": "markdown",
   "metadata": {},
   "source": [
    "# <b>Covariance Matrix"
   ]
  },
  {
   "cell_type": "code",
   "execution_count": 12,
   "metadata": {},
   "outputs": [
    {
     "data": {
      "text/html": [
       "<div>\n",
       "<style scoped>\n",
       "    .dataframe tbody tr th:only-of-type {\n",
       "        vertical-align: middle;\n",
       "    }\n",
       "\n",
       "    .dataframe tbody tr th {\n",
       "        vertical-align: top;\n",
       "    }\n",
       "\n",
       "    .dataframe thead th {\n",
       "        text-align: right;\n",
       "    }\n",
       "</style>\n",
       "<table border=\"1\" class=\"dataframe\">\n",
       "  <thead>\n",
       "    <tr style=\"text-align: right;\">\n",
       "      <th>Stock</th>\n",
       "      <th>COL</th>\n",
       "      <th>CSL</th>\n",
       "      <th>FMG</th>\n",
       "      <th>FPH</th>\n",
       "      <th>JBH</th>\n",
       "      <th>RMD</th>\n",
       "      <th>SAR</th>\n",
       "      <th>TPM</th>\n",
       "    </tr>\n",
       "    <tr>\n",
       "      <th>Stock</th>\n",
       "      <th></th>\n",
       "      <th></th>\n",
       "      <th></th>\n",
       "      <th></th>\n",
       "      <th></th>\n",
       "      <th></th>\n",
       "      <th></th>\n",
       "      <th></th>\n",
       "    </tr>\n",
       "  </thead>\n",
       "  <tbody>\n",
       "    <tr>\n",
       "      <th>COL</th>\n",
       "      <td>0.085885</td>\n",
       "      <td>0.044347</td>\n",
       "      <td>0.045439</td>\n",
       "      <td>0.024311</td>\n",
       "      <td>0.035309</td>\n",
       "      <td>0.028571</td>\n",
       "      <td>0.024519</td>\n",
       "      <td>0.043369</td>\n",
       "    </tr>\n",
       "    <tr>\n",
       "      <th>CSL</th>\n",
       "      <td>0.044347</td>\n",
       "      <td>0.104913</td>\n",
       "      <td>0.055403</td>\n",
       "      <td>0.033007</td>\n",
       "      <td>0.057273</td>\n",
       "      <td>0.038450</td>\n",
       "      <td>0.015982</td>\n",
       "      <td>0.049363</td>\n",
       "    </tr>\n",
       "    <tr>\n",
       "      <th>FMG</th>\n",
       "      <td>0.045439</td>\n",
       "      <td>0.055403</td>\n",
       "      <td>0.205670</td>\n",
       "      <td>0.009820</td>\n",
       "      <td>0.047888</td>\n",
       "      <td>0.035704</td>\n",
       "      <td>0.011999</td>\n",
       "      <td>0.049233</td>\n",
       "    </tr>\n",
       "    <tr>\n",
       "      <th>FPH</th>\n",
       "      <td>0.024311</td>\n",
       "      <td>0.033007</td>\n",
       "      <td>0.009820</td>\n",
       "      <td>0.094237</td>\n",
       "      <td>0.014459</td>\n",
       "      <td>0.034465</td>\n",
       "      <td>0.010829</td>\n",
       "      <td>0.019642</td>\n",
       "    </tr>\n",
       "    <tr>\n",
       "      <th>JBH</th>\n",
       "      <td>0.035309</td>\n",
       "      <td>0.057273</td>\n",
       "      <td>0.047888</td>\n",
       "      <td>0.014459</td>\n",
       "      <td>0.140864</td>\n",
       "      <td>0.032603</td>\n",
       "      <td>0.012552</td>\n",
       "      <td>0.047414</td>\n",
       "    </tr>\n",
       "    <tr>\n",
       "      <th>RMD</th>\n",
       "      <td>0.028571</td>\n",
       "      <td>0.038450</td>\n",
       "      <td>0.035704</td>\n",
       "      <td>0.034465</td>\n",
       "      <td>0.032603</td>\n",
       "      <td>0.121158</td>\n",
       "      <td>0.022342</td>\n",
       "      <td>0.025990</td>\n",
       "    </tr>\n",
       "    <tr>\n",
       "      <th>SAR</th>\n",
       "      <td>0.024519</td>\n",
       "      <td>0.015982</td>\n",
       "      <td>0.011999</td>\n",
       "      <td>0.010829</td>\n",
       "      <td>0.012552</td>\n",
       "      <td>0.022342</td>\n",
       "      <td>0.309785</td>\n",
       "      <td>0.041902</td>\n",
       "    </tr>\n",
       "    <tr>\n",
       "      <th>TPM</th>\n",
       "      <td>0.043369</td>\n",
       "      <td>0.049363</td>\n",
       "      <td>0.049233</td>\n",
       "      <td>0.019642</td>\n",
       "      <td>0.047414</td>\n",
       "      <td>0.025990</td>\n",
       "      <td>0.041902</td>\n",
       "      <td>0.161333</td>\n",
       "    </tr>\n",
       "  </tbody>\n",
       "</table>\n",
       "</div>"
      ],
      "text/plain": [
       "Stock       COL       CSL       FMG       FPH       JBH       RMD       SAR  \\\n",
       "Stock                                                                         \n",
       "COL    0.085885  0.044347  0.045439  0.024311  0.035309  0.028571  0.024519   \n",
       "CSL    0.044347  0.104913  0.055403  0.033007  0.057273  0.038450  0.015982   \n",
       "FMG    0.045439  0.055403  0.205670  0.009820  0.047888  0.035704  0.011999   \n",
       "FPH    0.024311  0.033007  0.009820  0.094237  0.014459  0.034465  0.010829   \n",
       "JBH    0.035309  0.057273  0.047888  0.014459  0.140864  0.032603  0.012552   \n",
       "RMD    0.028571  0.038450  0.035704  0.034465  0.032603  0.121158  0.022342   \n",
       "SAR    0.024519  0.015982  0.011999  0.010829  0.012552  0.022342  0.309785   \n",
       "TPM    0.043369  0.049363  0.049233  0.019642  0.047414  0.025990  0.041902   \n",
       "\n",
       "Stock       TPM  \n",
       "Stock            \n",
       "COL    0.043369  \n",
       "CSL    0.049363  \n",
       "FMG    0.049233  \n",
       "FPH    0.019642  \n",
       "JBH    0.047414  \n",
       "RMD    0.025990  \n",
       "SAR    0.041902  \n",
       "TPM    0.161333  "
      ]
     },
     "execution_count": 12,
     "metadata": {},
     "output_type": "execute_result"
    }
   ],
   "source": [
    "cov_matrix = log_returns.cov()*252\n",
    "cov_matrix"
   ]
  },
  {
   "cell_type": "code",
   "execution_count": 13,
   "metadata": {},
   "outputs": [
    {
     "data": {
      "image/png": "[encoded data removed]",
      "text/plain": [
       "<Figure size 2000x1600 with 2 Axes>"
      ]
     },
     "metadata": {},
     "output_type": "display_data"
    }
   ],
   "source": [
    "plt.figure(figsize=(20,16))\n",
    "sns.heatmap(cov_matrix.cov(), annot=False, cmap='viridis')\n",
    "plt.title('Covariance Heatmap')\n",
    "plt.show()"
   ]
  },
  {
   "cell_type": "markdown",
   "metadata": {},
   "source": [
    "# <b>Defining Functions"
   ]
  },
  {
   "cell_type": "markdown",
   "metadata": {},
   "source": [
    "### Standard Deviation"
   ]
  },
  {
   "cell_type": "code",
   "execution_count": 14,
   "metadata": {},
   "outputs": [],
   "source": [
    "def standard_deviation (weights, cov_matrix):\n",
    "    variance = weights.T @ cov_matrix @ weights\n",
    "    return np.sqrt(variance)"
   ]
  },
  {
   "cell_type": "markdown",
   "metadata": {},
   "source": [
    "### Expected Return"
   ]
  },
  {
   "cell_type": "code",
   "execution_count": 15,
   "metadata": {},
   "outputs": [],
   "source": [
    "def expected_return (weights, log_returns):\n",
    "    return np.sum(log_returns.mean()*weights)*252"
   ]
  },
  {
   "cell_type": "markdown",
   "metadata": {},
   "source": [
    "### Sharpe Ratio"
   ]
  },
  {
   "cell_type": "code",
   "execution_count": 16,
   "metadata": {},
   "outputs": [],
   "source": [
    "def sharpe_ratio (weights, log_returns, cov_matrix, risk_free_rate):\n",
    "    return(expected_return (weights, log_returns) - risk_free_rate)/ standard_deviation (weights, cov_matrix)"
   ]
  },
  {
   "cell_type": "markdown",
   "metadata": {},
   "source": [
    "# <b>Calculating Risk Free Rate"
   ]
  },
  {
   "cell_type": "code",
   "execution_count": 17,
   "metadata": {},
   "outputs": [
    {
     "name": "stdout",
     "output_type": "stream",
     "text": [
      "0.0431\n"
     ]
    }
   ],
   "source": [
    "from fredapi import Fred\n",
    "\n",
    "fred= Fred(api_key='f00022e0e814b865d9e051622ba04467')\n",
    "ten_year_treasury_rate= fred.get_series_latest_release('GS10')/100\n",
    "\n",
    "risk_free_rate= ten_year_treasury_rate.iloc[-1]\n",
    "print(risk_free_rate)"
   ]
  },
  {
   "cell_type": "markdown",
   "metadata": {},
   "source": [
    "# <b>Defining Negative Sharpe Ratio"
   ]
  },
  {
   "cell_type": "code",
   "execution_count": 18,
   "metadata": {},
   "outputs": [],
   "source": [
    "def neg_sharpe_ratio(weights, log_returns, cov_matrix, risk_free_rate):\n",
    "    return -sharpe_ratio(weights, log_returns, cov_matrix, risk_free_rate)"
   ]
  },
  {
   "cell_type": "markdown",
   "metadata": {},
   "source": [
    "# <b>Constraints & Bounds"
   ]
  },
  {
   "cell_type": "code",
   "execution_count": 19,
   "metadata": {},
   "outputs": [],
   "source": [
    "constraints= {'type': 'eq', 'fun': lambda weights: np.sum(weights)-1}\n",
    "bounds= [(0, 0.5) for _ in range(len(dfs))]"
   ]
  },
  {
   "cell_type": "code",
   "execution_count": 20,
   "metadata": {},
   "outputs": [
    {
     "data": {
      "text/plain": [
       "array([0.125, 0.125, 0.125, 0.125, 0.125, 0.125, 0.125, 0.125])"
      ]
     },
     "execution_count": 20,
     "metadata": {},
     "output_type": "execute_result"
    }
   ],
   "source": [
    "innitial_weights = np.array([1/len(dfs)]*len(dfs))\n",
    "innitial_weights.sum()\n",
    "innitial_weights\n"
   ]
  },
  {
   "cell_type": "markdown",
   "metadata": {},
   "source": [
    "# <b>Optimize Weights to Maximize Sharpe Ratio"
   ]
  },
  {
   "cell_type": "code",
   "execution_count": 21,
   "metadata": {},
   "outputs": [],
   "source": [
    "from scipy.optimize import minimize\n",
    "optimized_results= minimize(neg_sharpe_ratio, innitial_weights, args=(log_returns, cov_matrix, risk_free_rate), method='SLSQP', constraints=constraints, bounds=bounds)"
   ]
  },
  {
   "cell_type": "code",
   "execution_count": 22,
   "metadata": {},
   "outputs": [
    {
     "data": {
      "text/plain": [
       "array([0.        , 0.00290138, 0.36419884, 0.5       , 0.02095318,\n",
       "       0.05759861, 0.054348  , 0.        ])"
      ]
     },
     "execution_count": 22,
     "metadata": {},
     "output_type": "execute_result"
    }
   ],
   "source": [
    "optimal_weights = optimized_results.x\n",
    "optimal_weights"
   ]
  },
  {
   "cell_type": "markdown",
   "metadata": {},
   "source": [
    "# <b>Output"
   ]
  },
  {
   "cell_type": "code",
   "execution_count": 23,
   "metadata": {},
   "outputs": [
    {
     "name": "stdout",
     "output_type": "stream",
     "text": [
      "  Stock  Counts  Investments  Latest Price\n",
      "0   COL       0         0.00         15.83\n",
      "1   CSL       0       145.07        307.00\n",
      "2   FMG    1759     18209.94         10.35\n",
      "3   FPH     839     25000.00         29.78\n",
      "4   JBH      33      1047.66         30.99\n",
      "5   RMD     121      2879.93         23.64\n",
      "6   SAR     722      2717.40          3.76\n",
      "7   TPM       0         0.00          7.31\n",
      "\n",
      "Capital: 50000\n",
      "Return: 0.6977\n",
      "Risk: 0.2487\n",
      "Sharpe Ratio: 2.6319 \n"
     ]
    }
   ],
   "source": [
    "latest_prices = adj_values.iloc[-1]\n",
    "investments = (optimal_weights * capital)\n",
    "counts = np.array(investments // latest_prices)\n",
    "portfolio_return = expected_return(optimal_weights, log_returns)\n",
    "portfolio_risk = standard_deviation(optimal_weights, cov_matrix)\n",
    "optimal_sharpe_ratio = sharpe_ratio(optimal_weights, log_returns, cov_matrix, risk_free_rate)\n",
    "\n",
    "output_df = pd.DataFrame({\n",
    "    'Stock': stocks,\n",
    "    'Counts': counts.astype(int),\n",
    "    'Investments': investments.round(2),\n",
    "    'Latest Price': latest_prices.round(2).values\n",
    "})\n",
    "\n",
    "print(output_df)\n",
    "print(f\"\\nCapital: {capital}\")\n",
    "print(f\"Return: {portfolio_return:.4f}\")\n",
    "print(f\"Risk: {portfolio_risk:.4f}\")\n",
    "print(f\"Sharpe Ratio: {optimal_sharpe_ratio:.4f} \")"
   ]
  }
 ],
 "metadata": {
  "kernelspec": {
   "display_name": "base",
   "language": "python",
   "name": "python3"
  },
  "language_info": {
   "codemirror_mode": {
    "name": "ipython",
    "version": 3
   },
   "file_extension": ".py",
   "mimetype": "text/x-python",
   "name": "python",
   "nbconvert_exporter": "python",
   "pygments_lexer": "ipython3",
   "version": "3.11.7"
  }
 },
 "nbformat": 4,
 "nbformat_minor": 2
}
